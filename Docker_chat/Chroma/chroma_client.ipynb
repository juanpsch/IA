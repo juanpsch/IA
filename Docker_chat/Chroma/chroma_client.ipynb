{
 "cells": [
  {
   "cell_type": "code",
   "execution_count": 4,
   "metadata": {},
   "outputs": [],
   "source": [
    "import chromadb\n",
    "from chromadb.config import Settings\n",
    "from langchain_community.embeddings import OllamaEmbeddings"
   ]
  },
  {
   "cell_type": "code",
   "execution_count": 3,
   "metadata": {},
   "outputs": [],
   "source": [
    "\n",
    "chroma_client = chromadb.HttpClient(host=\"127.0.0.1\", port = 8000, settings=Settings(allow_reset=True, anonymized_telemetry=False))"
   ]
  },
  {
   "cell_type": "code",
   "execution_count": 3,
   "metadata": {},
   "outputs": [
    {
     "name": "stdout",
     "output_type": "stream",
     "text": [
      "The Hubble Space Telescope has provided us with breathtaking images of distant galaxies and nebulae.\n",
      "Mars, often called the 'Red Planet', has captured the imagination of scientists and space enthusiasts alike.\n",
      "The concept of a black hole, where gravity is so strong that nothing can escape it, was first theorized by Albert Einstein's theory of general relativity.\n"
     ]
    }
   ],
   "source": [
    "import chromadb\n",
    "from chromadb.config import Settings\n",
    "\n",
    "chroma_client = chromadb.HttpClient(host=\"127.0.0.1\", port = 8000, settings=Settings(allow_reset=True, anonymized_telemetry=False))\n",
    "documents = [\n",
    "    \"Mars, often called the 'Red Planet', has captured the imagination of scientists and space enthusiasts alike.\",\n",
    "    \"The Hubble Space Telescope has provided us with breathtaking images of distant galaxies and nebulae.\",\n",
    "    \"The concept of a black hole, where gravity is so strong that nothing can escape it, was first theorized by Albert Einstein's theory of general relativity.\",\n",
    "    \"The Renaissance was a pivotal period in history that saw a flourishing of art, science, and culture in Europe.\",\n",
    "    \"The Industrial Revolution marked a significant shift in human society, leading to urbanization and technological advancements.\",\n",
    "    \"The ancient city of Rome was once the center of a powerful empire that spanned across three continents.\",\n",
    "    \"Dolphins are known for their high intelligence and social behavior, often displaying playful interactions with humans.\",\n",
    "    \"The chameleon is a remarkable creature that can change its skin color to blend into its surroundings or communicate with other chameleons.\",\n",
    "    \"The migration of monarch butterflies spans thousands of miles and involves multiple generations to complete.\",\n",
    "    \"Christopher Nolan's 'Inception' is a mind-bending movie that explores the boundaries of reality and dreams.\",\n",
    "    \"The 'Lord of the Rings' trilogy, directed by Peter Jackson, brought J.R.R. Tolkien's epic fantasy world to life on the big screen.\",\n",
    "    \"Pixar's 'Toy Story' was the first feature-length film entirely animated using computer-generated imagery (CGI).\",\n",
    "    \"Superman, known for his incredible strength and ability to fly, is one of the most iconic superheroes in comic book history.\",\n",
    "    \"Black Widow, portrayed by Scarlett Johansson, is a skilled spy and assassin in the Marvel Cinematic Universe.\",\n",
    "    \"The character of Iron Man, played by Robert Downey Jr., kickstarted the immensely successful Marvel movie franchise in 2008.\"\n",
    "]\n",
    "metadatas = [{'source': \"Space\"}, {'source': \"Space\"}, {'source': \"Space\"}, {'source': \"History\"}, {'source': \"History\"}, {'source': \"History\"}, {'source': \"Animals\"}, {'source': \"Animals\"}, {'source': \"Animals\"}, {'source': \"Movies\"}, {'source': \"Movies\"}, {'source': \"Movies\"}, {'source': \"Superheroes\"}, {'source': \"Superheroes\"}, {'source': \"Superheroes\"}]\n",
    "ids = [\"1\", \"2\", \"3\", \"4\", \"5\", \"6\", \"7\", \"8\", \"9\", \"10\", \"11\", \"12\", \"13\", \"14\", \"15\"]\n",
    "\n",
    "collection_status = False\n",
    "while collection_status != True:\n",
    "    try:\n",
    "        document_collection = chroma_client.get_or_create_collection(name=\"sample_collection\")\n",
    "        collection_status = True\n",
    "    except Exception as e:\n",
    "        pass\n",
    "\n",
    "document_collection.add(documents=documents, metadatas=metadatas, ids=ids)\n",
    "\n",
    "results = document_collection.query(query_texts=\"Give me some facts about space\", n_results=3)\n",
    "result_documents = results[\"documents\"][0]\n",
    "for doc in result_documents:\n",
    "    print(doc)"
   ]
  },
  {
   "cell_type": "code",
   "execution_count": 10,
   "metadata": {},
   "outputs": [
    {
     "name": "stdout",
     "output_type": "stream",
     "text": [
      "The 'Lord of the Rings' trilogy, directed by Peter Jackson, brought J.R.R. Tolkien's epic fantasy world to life on the big screen.\n",
      "The character of Iron Man, played by Robert Downey Jr., kickstarted the immensely successful Marvel movie franchise in 2008.\n",
      "Superman, known for his incredible strength and ability to fly, is one of the most iconic superheroes in comic book history.\n"
     ]
    }
   ],
   "source": [
    "results = document_collection.query(query_texts=\"Who is peter Jackson?\", n_results=3)\n",
    "result_documents = results[\"documents\"][0]\n",
    "for doc in result_documents:\n",
    "    print(doc)"
   ]
  },
  {
   "cell_type": "code",
   "execution_count": 9,
   "metadata": {},
   "outputs": [
    {
     "data": {
      "text/plain": [
       "[Collection(id=2fac2c1c-793f-41ec-a42b-ff9f1420a57b, name=taller),\n",
       " Collection(id=ff82d0b4-df14-4df5-81f0-0fb88290d40c, name=sample_collection)]"
      ]
     },
     "execution_count": 9,
     "metadata": {},
     "output_type": "execute_result"
    }
   ],
   "source": [
    "chroma_client.list_collections()"
   ]
  },
  {
   "cell_type": "code",
   "execution_count": 14,
   "metadata": {},
   "outputs": [
    {
     "ename": "AttributeError",
     "evalue": "'Collection' object has no attribute 'document_collection'",
     "output_type": "error",
     "traceback": [
      "\u001b[1;31m---------------------------------------------------------------------------\u001b[0m",
      "\u001b[1;31mAttributeError\u001b[0m                            Traceback (most recent call last)",
      "Cell \u001b[1;32mIn[14], line 2\u001b[0m\n\u001b[0;32m      1\u001b[0m taller \u001b[38;5;241m=\u001b[39m chroma_client\u001b[38;5;241m.\u001b[39mget_or_create_collection(name\u001b[38;5;241m=\u001b[39m\u001b[38;5;124m\"\u001b[39m\u001b[38;5;124mtaller\u001b[39m\u001b[38;5;124m\"\u001b[39m)\n\u001b[1;32m----> 2\u001b[0m \u001b[43mtaller\u001b[49m\u001b[38;5;241;43m.\u001b[39;49m\u001b[43mdocument_collection\u001b[49m\u001b[38;5;241m.\u001b[39mquery(query_texts\u001b[38;5;241m=\u001b[39m\u001b[38;5;124m\"\u001b[39m\u001b[38;5;124mGive me some facts about space\u001b[39m\u001b[38;5;124m\"\u001b[39m, n_results\u001b[38;5;241m=\u001b[39m\u001b[38;5;241m3\u001b[39m)\n",
      "\u001b[1;31mAttributeError\u001b[0m: 'Collection' object has no attribute 'document_collection'"
     ]
    }
   ],
   "source": [
    "taller = chroma_client.get_or_create_collection(name=\"taller\")\n",
    "taller.document_collection.query(query_texts=\"Give me some facts about space\", n_results=3)\n"
   ]
  },
  {
   "cell_type": "code",
   "execution_count": 7,
   "metadata": {},
   "outputs": [],
   "source": [
    "chroma_client.delete_collection('taller')"
   ]
  }
 ],
 "metadata": {
  "kernelspec": {
   "display_name": "llm",
   "language": "python",
   "name": "python3"
  },
  "language_info": {
   "codemirror_mode": {
    "name": "ipython",
    "version": 3
   },
   "file_extension": ".py",
   "mimetype": "text/x-python",
   "name": "python",
   "nbconvert_exporter": "python",
   "pygments_lexer": "ipython3",
   "version": "3.12.3"
  }
 },
 "nbformat": 4,
 "nbformat_minor": 2
}
