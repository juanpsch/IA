{
 "cells": [
  {
   "cell_type": "code",
   "execution_count": 2,
   "metadata": {},
   "outputs": [],
   "source": [
    "import os\n",
    "# from dotenv import load_dotenv\n",
    "\n",
    "# load_dotenv()\n",
    "\n",
    "\n",
    "# OPENAI_KEY = os.getenv(\"OPENAI_KEY\")\n",
    "# MODEL = \"gpt-3.5-turbo\"\n",
    "# MODEL = \"mixtral:8x7b\"\n",
    "MODEL = \"llama3\""
   ]
  },
  {
   "cell_type": "code",
   "execution_count": 5,
   "metadata": {},
   "outputs": [
    {
     "data": {
      "text/plain": [
       "\"Here's one:\\n\\nWhy don't scientists trust atoms?\\n\\nBecause they make up everything!\\n\\nHope that made you smile!\""
      ]
     },
     "execution_count": 5,
     "metadata": {},
     "output_type": "execute_result"
    }
   ],
   "source": [
    "# from langchain_openai.chat_models import ChatOpenAI\n",
    "# from langchain_openai.embeddings import OpenAIEmbeddings\n",
    "from langchain_community.llms import Ollama\n",
    "from langchain_community.embeddings import OllamaEmbeddings\n",
    "\n",
    "if MODEL.startswith(\"gpt\"):\n",
    "    # model = ChatOpenAI(api_key=OPENAI_KEY, model=MODEL)\n",
    "    # embedding = OpenAIEmbeddings()\n",
    "    pass\n",
    "else:\n",
    "    model = Ollama(model=MODEL)\n",
    "    embeddings = OllamaEmbeddings(model=\"llama3\")\n",
    "    \n",
    "model.invoke(\"Tell me a joke\")"
   ]
  },
  {
   "cell_type": "code",
   "execution_count": 6,
   "metadata": {},
   "outputs": [
    {
     "data": {
      "text/plain": [
       "\"Here's one:\\n\\nWhy couldn't the bicycle stand up by itself?\\n\\n(wait for it...)\\n\\nBecause it was two-tired!\\n\\nHope that made you smile! Do you want to hear another one?\""
      ]
     },
     "execution_count": 6,
     "metadata": {},
     "output_type": "execute_result"
    }
   ],
   "source": [
    "from langchain_core.output_parsers import StrOutputParser\n",
    "\n",
    "parser = StrOutputParser()\n",
    "\n",
    "chain=model | parser\n",
    "chain.invoke(\"Tell me a joke\")"
   ]
  },
  {
   "cell_type": "code",
   "execution_count": 7,
   "metadata": {},
   "outputs": [],
   "source": [
    "from langchain_community.document_loaders import PyPDFLoader\n",
    "\n",
    "loader = PyPDFLoader(\"DD-CAREM25CO-3-r0_b.pdf\")\n",
    "pages = loader.load_and_split()\n"
   ]
  },
  {
   "cell_type": "code",
   "execution_count": 8,
   "metadata": {},
   "outputs": [
    {
     "name": "stdout",
     "output_type": "stream",
     "text": [
      "\n",
      "Answer in spanish the question based on the context below. If you cant't\n",
      "answer the quiestion, reply \"I dont't know\".\n",
      "\n",
      "Context: Here is some context\n",
      "\n",
      "Question: Here is a question\n",
      "\n"
     ]
    }
   ],
   "source": [
    "from langchain.prompts import PromptTemplate\n",
    "\n",
    "template = \"\"\"\n",
    "Answer in spanish the question based on the context below. If you cant't\n",
    "answer the quiestion, reply \"I dont't know\".\n",
    "\n",
    "Context: {context}\n",
    "\n",
    "Question: {question}\n",
    "\"\"\"\n",
    "\n",
    "prompt = PromptTemplate.from_template(template)\n",
    "print(prompt.format(context=\"Here is some context\", question=\"Here is a question\"))\n",
    "\n"
   ]
  },
  {
   "cell_type": "code",
   "execution_count": 9,
   "metadata": {},
   "outputs": [],
   "source": [
    "chain = prompt | model | parser "
   ]
  },
  {
   "cell_type": "code",
   "execution_count": 10,
   "metadata": {},
   "outputs": [
    {
     "data": {
      "text/plain": [
       "{'title': 'PromptInput',\n",
       " 'type': 'object',\n",
       " 'properties': {'context': {'title': 'Context', 'type': 'string'},\n",
       "  'question': {'title': 'Question', 'type': 'string'}},\n",
       " 'required': ['context', 'question']}"
      ]
     },
     "execution_count": 10,
     "metadata": {},
     "output_type": "execute_result"
    }
   ],
   "source": [
    "chain.input_schema.schema()"
   ]
  },
  {
   "cell_type": "code",
   "execution_count": 11,
   "metadata": {},
   "outputs": [
    {
     "data": {
      "text/plain": [
       "'Tu nombre es Santiago.'"
      ]
     },
     "execution_count": 11,
     "metadata": {},
     "output_type": "execute_result"
    }
   ],
   "source": [
    "chain.invoke(\n",
    "    {\n",
    "        \"context\": \"The name I was given was Santiago\",\n",
    "        \"question\": \"What's my name?\"\n",
    "    }\n",
    ")"
   ]
  },
  {
   "cell_type": "code",
   "execution_count": 13,
   "metadata": {},
   "outputs": [
    {
     "name": "stderr",
     "output_type": "stream",
     "text": [
      "d:\\Users\\juanp_schamun\\AppData\\Local\\anaconda3\\envs\\app_chat_doc\\Lib\\site-packages\\pydantic\\_migration.py:283: UserWarning: `pydantic.error_wrappers:ValidationError` has been moved to `pydantic:ValidationError`.\n",
      "  warnings.warn(f'`{import_path}` has been moved to `{new_location}`.')\n"
     ]
    }
   ],
   "source": [
    "from langchain_community.vectorstores import DocArrayInMemorySearch\n",
    "\n",
    "\n",
    "\n",
    "vectorstore = DocArrayInMemorySearch.from_documents(\n",
    "    pages,\n",
    "    embedding=embeddings)"
   ]
  },
  {
   "cell_type": "code",
   "execution_count": 14,
   "metadata": {},
   "outputs": [
    {
     "data": {
      "text/plain": [
       "[Document(metadata={'source': 'DD-CAREM25CO-3-r0_b.pdf', 'page': 7}, page_content='FO-PR-002 r 3  \\nCNEA  Glosario Coordinación y P reservación de la \\nInformación y Operación  DD-CAREM25CO -3-\\nC0021 Rev.:0  \\nPágina:  8 de 9 \\n \\nEste documento es copia no controlada cuando está impreso. Es v álido el documento disponible en la base de datos CAREM  \\n ARCHIVO ELECTRÓNICO: DD-CAREM25CO -3-r0_b.docx   Preservación de la Información y Operación.  \\nSupplier for \\nApproval  (Para \\nAprobación De \\nProveedores ): Estado del ciclo de vida del Contexto Proveedor de un Objeto que fue \\nrevisado y su grado de maduración está  en una etapa avanzada \\ncomo para ser aprobado por el Proveedor y puesto a disposición de \\nCNEA.  \\nEl Rol “Aprobador Proveedor” es el que puede ejecutar acciones en \\neste estado (por ej. promoverlo, subir comentarios, etc., salvo \\nmodificarlo).  \\nSupplier InCheck  \\n(en Revisión  de \\nProveedores ): Estado del ciclo de vida del Contexto Proveedor, de un objeto, donde \\nsu grado de maduración está en una etapa avanzada como para ser \\nrevisada.  \\nEl Rol “Revisor Proveedor” es el que puede ejecutar acciones en este \\nestado (por e j. promoverlo, subir comentarios, etc., salvo modificarlo).  \\nValidación : Confirmación, lograda por examen y aporte de información cuya \\nveracidad puede demostrarse en base a hechos y obtenida por \\nobservación, medición, ensayos u otros medios, de que los requisitos \\nparticulares para un uso específico previsto han sido satisfechos. [3]  \\nLa validación comprende la verificación direccionada a una aplicación \\nen particular que puede ser un prototipo o configuración específica \\nen donde el cliente da la aprobación  para su fabricación, instalación o \\npuesta en marcha.  \\nVerificación:  Confirmación mediante evidencia objetiva de que se han cumplido \\nlos requerimientos especificados. [2]  \\nLa verificación es una comprobación mediante el uso de métodos \\n(revisión, cálculos al ternativos y prueba de calificación) de que se \\ncumplen los requisitos de entrada.  \\n \\nReplicación:   Pasaje de información del entorno de ENOVIA V5 de un servidor, al \\nentorno de ENOVIA V5 de otro servidor, siguiendo un conjunto de \\nreglas predeterminadas  \\nCódi go de \\nBloque:  Este parámetro  está determinado por un número que  puede ser \\nutilizado como filtro para la búsqueda de documentación dentro de \\nlas pantallas personalizadas.  \\n \\n \\n4. REFERENCIAS  \\n4.1 ANTECEDENTES  \\n[1] FO -CAREM25Q -54 Formulario de comentarios de revisión de documentos  \\n4.2 DOCUMENTACIÓN APLICABLE  \\n\\uf0b7 No aplicable'),\n",
       " Document(metadata={'source': 'DD-CAREM25CO-3-r0_b.pdf', 'page': 5}, page_content='FO-PR-002 r 3  \\nCNEA  Glosario Coordinación y P reservación de la \\nInformación y Operación  DD-CAREM25CO -3-\\nC0021 Rev.:0  \\nPágina:  6 de 9 \\n \\nEste documento es copia no controlada cuando está impreso. Es v álido el documento disponible en la base de datos CAREM  \\n ARCHIVO ELECTRÓNICO: DD-CAREM25CO -3-r0_b.docx   Objeto:  Se emplea para denominar todo aquello cuya  existencia  es \\nadministrable  por el sistema  ENOVIA V5 (por ej. archivos en distintos \\nformatos, sistemas o partes en 3D, nodos, P&ID inteligentes, planos, \\netc.) \\nObjetos 3D:  \\n Partes 3D (CATPart), ensambles (CATProduct), planos  \\n(CATDrawing), P&ID, documentos, etc. cuya evolución se pretende \\nmonitorea r y trazar a lo largo de su ciclo de vida.  \\nOn Hold for \\nRelease  (en \\nEspera para \\nLiberación ): Estado que indicará que el documento está aguardando a otro u \\notros documentos para liberar a todos en conjunto.  \\nPersistencia en \\nel sistema:  Resultado de la acción de incorporar un documento y/o dejar registro \\nde alguna acción tomada por  un usuario en particular, en el sistema \\nENOVIA.   \\nPLM:  En su traducción al español: Gestión del Ciclo de Vida del Producto, \\nes una estrategia para el manejo óp timo e integrado de toda la \\ninformación necesaria utilizada para diseñar y fabricar un producto, \\nasí como la información que el mismo genera a lo largo de su vida. \\nPermite realizar la trazabilidad de la información desde su \\nconcepción inicial, diseño, fabr icación, control de calidad, montaje, \\npuesta en marcha, operación, hasta su desmantelamiento. En \\nnuestro caso, el producto final es la Central CAREM25, y la \\nutilización del sistema CATIA V5 / ENOVIA V5 nos permite incluir \\nherramientas 3D para el diseño y u bicación espacial de las \\nEstructuras, Sistemas y Componentes de la Central para potenciar el \\nsistema PLM integrado.  \\nPaquete:  Conjunto de documentos que conforman una unidad, que tienen una \\nidentificación específica. Esta identificación se crea según acuerdo  \\nentre los participantes….  \\nPower \\nPromote/Demote : Herramienta del sistema ENOVIA V5 que permite promover (avanzar \\no devolver) un documento de un estado a otro del ciclo de vida en \\nfunción del rol del usuario . Tiene la capacidad adicional de promover  \\nun grupo de documentos a elección, evitando tener que realizar la \\ntarea repetidamente para cada documento.   \\nPRC : Entidad en el sistema CATIA V5 / ENOVIA V5 de más alto nivel \\njerárquico de una estructura de producto. Está compuesta por nodos \\nque contienen  información  almacenada en ENOVIA V5.  \\nRecibir \\ndocumentación:  Es el proceso que da aviso al Representante Técnico y al Área de \\nCalidad de la disponibilidad de la documentación a revisar por CNEA.  \\nReferencia : Objeto dentro de ENOVIA que es utilizado como base para ser \\ninstanciado por otros objetos.  \\nRejected \\n(Rechazado):  Estado que indicará que el documento es rechazado por CNEA. Este \\ndocumento no cumple con las expectativas de CNEA y debe ser \\nmodificado. Puede tener adjunto un documento de comentarios.  \\nReleased \\n(Liberado ): Estado de liberación final  del documento . \\nReleased for \\nReference Documentos no mandatorios, válidos como antecedente y  como  \\nregistros complementarios del sistema de gestión .'),\n",
       " Document(metadata={'source': 'DD-CAREM25CO-3-r0_b.pdf', 'page': 6}, page_content='FO-PR-002 r 3  \\nCNEA  Glosario Coordinación y P reservación de la \\nInformación y Operación  DD-CAREM25CO -3-\\nC0021 Rev.:0  \\nPágina:  7 de 9 \\n \\nEste documento es copia no controlada cuando está impreso. Es v álido el documento disponible en la base de datos CAREM  \\n ARCHIVO ELECTRÓNICO: DD-CAREM25CO -3-r0_b.docx   (“Liberado como \\nReferencia ”): \\nReviewed  With \\nComments \\n(Revisado con \\nComentarios ): Estado que indicará que el documento esta revisado y ha sido \\ndevuelto al Proveedor para su modificación de acuerdo a lo indicado \\nen comentarios. Se le da un visto bueno parcial y se le agrega un \\ndocumento de comentarios para que el Proveedor corrija las \\ndiferencias.  \\nReviewed from \\nSupplier  \\n(Revisado  desde \\nProveedor /para \\nAprobación ): Estado del ciclo de vida del Contexto CNEA de un Objeto que fue \\naprobado por el Proveedor, revisado por CNEA y puesto a \\ndisposición para su aprobación . \\nEl Rol “Aprobador” es el que puede ejecutar acciones en este estado \\n(por ej. promoverlo, subir comentarios, etc., salvo modificarlo).  \\nRevisiones inter -\\náreas:  Proceso de revisiones que se deben realizar a un documento entre \\ndiferentes Áreas Técnicas.  \\nRevisiones intra -\\náreas:  Proceso de revisiones que se deben realizar a un documento dentro \\nde un Área Técnica.  \\nRevisor:  Realiza la revisión de los documentos que le fueron asignado \\nmediante una “Action” por el Jefe Revisor. Puede realizar \\ncomentarios sobre los documentos. Para cerrar la “Action” debe \\npasar de estado de “Firma Pendiente” a “Firmado”.  \\nRol: Descriptor que indica el papel que desempeña un usuario en el \\nsistema  \\nRT CNEA : Es quien asegura que la documentación de Ingeniería Básica de \\nCNEA sea subi da y liberada en ENOVIA V5 para la disponibilidad de \\nlos Proveedores de la Ingeniería de Detalle.  \\nRealiza la verificación de la entrega en tiempo y forma según lo \\nestablecido contractualmente, de los documentos de Ingeniería de \\nDetalle realizados por y par a el Proveedor.  \\nNotifica a los Jefes Revisores que tiene documentos para revisar y \\ntambién asigna el plazo a cumplir para le revisión de la \\ndocumentación.  \\nRT Proveedor : Es quién cumple una función contractual de verificación sobre la \\ndocumentación entreg ada por el proveedor a CNEA.  \\nSitio:  Espacio de trabajo  montado sobre un servidor en el cual está \\ninstalado  el sistema ENOVIA V5 con una configuración específica y \\nuna base de datos propia. Los datos se pueden intercambiar y \\nactualizar entre distintos sit ios por medio de replicaciones.  \\nSolicitud de \\nRequerimientos \\n(REQ)  Documento para solicitud de tareas o pedidos de soluciones \\nrelacionados con sistemas a cargo de la Coordinación Preservación \\nde la Información y Operación. El documento posee un formato que  \\npermite describir el resumen de la necesidad, el alcance de las \\ntareas solicitadas, los beneficios esperados, los riesgos estimados y \\nplazos de ejecución.  \\nSoporte Externo  Subcontratación de un agente externo al Proyecto CAREM25 que \\nbrinda apoyo y soluciones que no puede ofrecer la Coordinación'),\n",
       " Document(metadata={'source': 'DD-CAREM25CO-3-r0_b.pdf', 'page': 8}, page_content='FO-PR-002 r 3  \\nCNEA  Glosario Coordinación y P reservación de la \\nInformación y Operación  DD-CAREM25CO -3-\\nC0021 Rev.:0  \\nPágina:  9 de 9 \\n \\nEste documento es copia no controlada cuando está impreso. Es v álido el documento disponible en la base de datos CAREM  \\n ARCHIVO ELECTRÓNICO: DD-CAREM25CO -3-r0_b.docx   4.3 DOCUMENTACIÓN AFECTADA  \\n\\uf0b7 Toda la do cumentaci ón de Presrevaci ón de la Informaci ón relacionada con \\nCATIA/Enovia.  \\n5. RESPONSABILIDADES  \\nEl Departamento  Coordinación y Preservación de la Información  y Operación  es \\nresponsable de mantener permanentemente actualizado el presente glosario.  \\n \\n6. DESARROLLO  \\n \\n\\uf0b7 No aplicable  \\n \\n7. CONCLUSIONES, OTROS ESTUDIOS Y RECOMENDACIONES  \\n7.1 CONCLUSIONES  \\nNo aplicable.  \\n7.2 OTROS ESTUDIOS Y RECOMENDACIONES  \\nNo aplicable.  \\n8. REGISTROS  \\nNo aplicable.  \\n9. ANEXOS  \\n\\uf0b7 No aplicable')]"
      ]
     },
     "execution_count": 14,
     "metadata": {},
     "output_type": "execute_result"
    }
   ],
   "source": [
    "retriever = vectorstore.as_retriever()\n",
    "retriever.invoke(\"catalogacion\")"
   ]
  },
  {
   "cell_type": "code",
   "execution_count": 15,
   "metadata": {},
   "outputs": [
    {
     "data": {
      "text/plain": [
       "'En el contexto descrito, el Documento con comentarios se refiere a un documento (por ejemplo, archivo Word) elaborado por un Revisor de un AT para realizar comentarios sobre un Documento de Ingeniería durante la revisión. Es complementario a los Comentarios dentro del sistema ENOVIA y permite agregar más detalles con diferentes formatos, como imágenes o tablas.'"
      ]
     },
     "execution_count": 15,
     "metadata": {},
     "output_type": "execute_result"
    }
   ],
   "source": [
    "from operator import itemgetter\n",
    "chain = (\n",
    "    {\"context\": itemgetter(\"question\") | retriever, \"question\": itemgetter(\"question\")}\n",
    "    | prompt\n",
    "    | model\n",
    "| parser\n",
    ")\n",
    "\n",
    "chain.invoke({\"question\": \"Que es Documento con comentarios\"})"
   ]
  },
  {
   "cell_type": "code",
   "execution_count": 16,
   "metadata": {},
   "outputs": [],
   "source": [
    "questions = [\n",
    "    \"Que es PLM\",\n",
    "    \"Que es Documento con comentarios\",\n",
    "    \"Que son los estados finales\",\n",
    "    \"Que son los estados de maduracion\",\n",
    "    \"Que es una instancia\",\n",
    "    \"Que es un nodo de corte\",\n",
    "    \"Qué es 'Supplier  InCheck'?\"\n",
    "]\n",
    "\n",
    "# for question in questions:\n",
    "#         print(f\"Question: {question}\\n\")\n",
    "#         print(f\"Aswer: {chain.invoke({'question': question})}\")\n"
   ]
  },
  {
   "cell_type": "code",
   "execution_count": 17,
   "metadata": {},
   "outputs": [
    {
     "name": "stdout",
     "output_type": "stream",
     "text": [
      "La respuesta a esta pregunta en español sería:\n",
      "\n",
      "\"Proveedor InCheck no está definido en este contexto. La palabra \"Proveedor\" se refiere al proveedor externo que genera un objeto en CATIA V5/ENOVIA V5, mientras que \"InCheck\" no parece estar relacionado con este término.\""
     ]
    }
   ],
   "source": [
    "for s in chain.stream({\"question\": \"Qué es 'Supplier  InCheck'?\"}):\n",
    "    print(s, end=\"\", flush=True)"
   ]
  },
  {
   "cell_type": "code",
   "execution_count": 18,
   "metadata": {},
   "outputs": [
    {
     "data": {
      "text/plain": [
       "['En este contexto, no se menciona explícitamente el término \"PLM\", pero sí se describe el sistema ENOVIA V5 y su funcionalidad de gestión de productos (Product Lifecycle Management).\\n\\nSi bien no está directamente relacionado con la pregunta, podemos inferir que PLM (Product Lifecycle Management) se refiere a la gestión integral del ciclo de vida de un producto, desde su diseño hasta su desecho, incluyendo todas las etapas y actividades involucradas en ese proceso. En este sentido, el sistema ENOVIA V5 sería un ejemplo de una plataforma PLM que facilita la colaboración y el seguimiento del ciclo de vida de los productos.\\n\\nSi necesitas una respuesta más directa, podrías mencionar: \"La PLM (Product Lifecycle Management) es el conjunto de procesos, tecnologías y estrategias para gestionar integralmente el ciclo de vida de un producto, desde su diseño hasta su desecho.\"',\n",
       " 'Según el contexto, un \"Documento con comentarios\" se refiere a un documento (por ejemplo, archivo Word) elaborado por un Revisor de un AT para realizar comentarios sobre durante la revisión de un Documento de Ingeniería. Es complementario a los Comentarios dentro del sistema ENOVIA y permite agregar más detalles con diferentes formatos, así como imágenes o tablas.',\n",
       " 'No hay estados finales mencionados en el texto. Sin embargo, se hace mención a varios estados del ciclo de vida de un objeto en ENOVIA V5, incluyendo:\\n\\n* InWork (en Preparación): Estado inicial del ciclo de vida de un Objeto creado o subido a ENOVIA V5.\\n* No se mencionan estados finales explícitamente.',\n",
       " 'La respuesta a la pregunta en español es:\\n\\nLos estados de maduración se refieren a los diferentes niveles de avance o desarrollo que un documento puede alcanzar en el ciclo de vida del producto, dentro del sistema ENOVIA V5. Estos estados pueden ser:\\n\\n* On Hold for Release (en Espera para Liberación): Estado que indica que el documento está esperando a otros documentos para liberarse conjuntamente.\\n* Released (Liberado ): Estado final de liberación del documento.\\n\\nEs importante destacar que los estados de maduración no se limitan a estos dos, ya que en el sistema ENOVIA V5 pueden existir otros estados como por ejemplo Rejected (Rechazado) o Approved (Aprobado).',\n",
       " 'Según el contexto, una instancia (en inglés, \"instance\") se refiere a un objeto dentro de ENOVIA que es utilizado como base para ser instanciado por otros objetos.',\n",
       " 'No encontré información en el documento que se refiere a un \"nodo de corte\". Es posible que este término no esté relacionado con el contexto proporcionado. Si tienes más información o contexto adicional, estaría dispuesto a ayudarte a encontrar la respuesta correcta.',\n",
       " 'La respuesta a esta pregunta no está presente en el documento proporcionado. No hay mención explícita al término \"Supplier InCheck\" en el texto. Sin embargo, se puede inferir que \"Proveedor\" se refiere a un proveedor externo que genera objetos 3D o documentos dentro del sistema ENOVIA V5.']"
      ]
     },
     "execution_count": 18,
     "metadata": {},
     "output_type": "execute_result"
    }
   ],
   "source": [
    "chain.batch([{\"question\": q} for q in questions])"
   ]
  }
 ],
 "metadata": {
  "kernelspec": {
   "display_name": "llm",
   "language": "python",
   "name": "python3"
  },
  "language_info": {
   "codemirror_mode": {
    "name": "ipython",
    "version": 3
   },
   "file_extension": ".py",
   "mimetype": "text/x-python",
   "name": "python",
   "nbconvert_exporter": "python",
   "pygments_lexer": "ipython3",
   "version": "3.12.3"
  }
 },
 "nbformat": 4,
 "nbformat_minor": 2
}
